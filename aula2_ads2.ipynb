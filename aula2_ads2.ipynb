{
  "nbformat": 4,
  "nbformat_minor": 0,
  "metadata": {
    "colab": {
      "provenance": []
    },
    "kernelspec": {
      "name": "python3",
      "display_name": "Python 3"
    },
    "language_info": {
      "name": "python"
    }
  },
  "cells": [
    {
      "cell_type": "code",
      "execution_count": 8,
      "metadata": {
        "colab": {
          "base_uri": "https://localhost:8080/"
        },
        "id": "6kiUYRulc82T",
        "outputId": "fdf0cf31-9d01-4936-f7f3-12f7c76e43b8"
      },
      "outputs": [
        {
          "output_type": "stream",
          "name": "stdout",
          "text": [
            "<class 'bool'>\n"
          ]
        }
      ],
      "source": [
        "# UNINASSAU\n",
        "# DOCENTE. CLOVES ROCHA\n",
        "#  ESTUDANTE ALLAN CORREIA\n",
        "# TIPOS PRIMITIVOS DE DADOS\n",
        "\n",
        "#print ( \"ola mundo!\" )\n",
        "\n",
        "c = False\n",
        "print (type (c))"
      ]
    }
  ]
}