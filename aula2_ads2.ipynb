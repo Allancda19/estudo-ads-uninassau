{
  "nbformat": 4,
  "nbformat_minor": 0,
  "metadata": {
    "colab": {
      "provenance": [],
      "authorship_tag": "ABX9TyPMwsqn5+wrjHHFAmg8XHkZ",
      "include_colab_link": true
    },
    "kernelspec": {
      "name": "python3",
      "display_name": "Python 3"
    },
    "language_info": {
      "name": "python"
    }
  },
  "cells": [
    {
      "cell_type": "markdown",
      "metadata": {
        "id": "view-in-github",
        "colab_type": "text"
      },
      "source": [
        "<a href=\"https://colab.research.google.com/github/Allancda19/estudo-ads-uninassau/blob/main/aula2_ads2.ipynb\" target=\"_parent\"><img src=\"https://colab.research.google.com/assets/colab-badge.svg\" alt=\"Open In Colab\"/></a>"
      ]
    },
    {
      "cell_type": "code",
      "execution_count": null,
      "metadata": {
        "colab": {
          "base_uri": "https://localhost:8080/"
        },
        "id": "6kiUYRulc82T",
        "outputId": "9bf1edfc-0216-48cf-c5b7-537277a4cc40"
      },
      "outputs": [
        {
          "output_type": "stream",
          "name": "stdout",
          "text": [
            "<class 'bool'>\n"
          ]
        }
      ],
      "source": [
        "from traitlets.config.application import Application\n",
        "# UNINASSAU\n",
        "# DOCENTE. CLOVES ROCHA\n",
        "#  ESTUDANTE ALLAN CORREIA\n",
        "# TIPOS PRIMITIVOS DE DADOS\n",
        "\n",
        "#print ( \"ola mundo!\" )\n",
        "#D = Dado\n",
        "print (type (c))"
      ]
    }
  ]
}